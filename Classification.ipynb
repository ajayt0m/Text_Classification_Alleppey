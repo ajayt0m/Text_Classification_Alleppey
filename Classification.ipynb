{
 "cells": [
  {
   "cell_type": "markdown",
   "metadata": {},
   "source": [
    "# Step 1: Setup - Importing Libraries"
   ]
  },
  {
   "cell_type": "code",
   "execution_count": 71,
   "metadata": {},
   "outputs": [
    {
     "name": "stderr",
     "output_type": "stream",
     "text": [
      "[nltk_data] Downloading package punkt to\n",
      "[nltk_data]     C:\\Users\\imaja\\AppData\\Roaming\\nltk_data...\n",
      "[nltk_data]   Package punkt is already up-to-date!\n",
      "[nltk_data] Downloading package averaged_perceptron_tagger to\n",
      "[nltk_data]     C:\\Users\\imaja\\AppData\\Roaming\\nltk_data...\n",
      "[nltk_data]   Package averaged_perceptron_tagger is already up-to-\n",
      "[nltk_data]       date!\n",
      "[nltk_data] Downloading package wordnet to\n",
      "[nltk_data]     C:\\Users\\imaja\\AppData\\Roaming\\nltk_data...\n",
      "[nltk_data]   Package wordnet is already up-to-date!\n"
     ]
    }
   ],
   "source": [
    "import pandas as pd\n",
    "import numpy as np\n",
    "import seaborn as sns\n",
    "import matplotlib.pyplot as plt\n",
    "\n",
    "#for text pre-processing\n",
    "import re, string\n",
    "import nltk\n",
    "from nltk.tokenize import word_tokenize\n",
    "from nltk.corpus import stopwords\n",
    "from nltk.tokenize import word_tokenize\n",
    "from nltk.stem import SnowballStemmer\n",
    "from nltk.corpus import wordnet\n",
    "from nltk.stem import WordNetLemmatizer\n",
    "\n",
    "nltk.download('punkt')\n",
    "nltk.download('averaged_perceptron_tagger')\n",
    "nltk.download('wordnet')\n",
    "\n",
    "#for model-building\n",
    "from sklearn.model_selection import train_test_split\n",
    "from sklearn.linear_model import LogisticRegression\n",
    "from sklearn.naive_bayes import MultinomialNB\n",
    "from sklearn.naive_bayes import GaussianNB\n",
    "from sklearn.metrics import classification_report, f1_score, accuracy_score, confusion_matrix\n",
    "from sklearn.metrics import roc_curve, auc, roc_auc_score\n",
    "from sklearn.utils.class_weight import compute_class_weight\n",
    "\n",
    "# bag of words\n",
    "from sklearn.feature_extraction.text import TfidfVectorizer\n",
    "from sklearn.feature_extraction.text import CountVectorizer\n",
    "\n",
    "#for word embedding\n",
    "import gensim\n",
    "from gensim.models import Word2Vec"
   ]
  },
  {
   "cell_type": "markdown",
   "metadata": {},
   "source": [
    "# Step 2: Loading the data set"
   ]
  },
  {
   "cell_type": "code",
   "execution_count": 72,
   "metadata": {},
   "outputs": [],
   "source": [
    "file_path = r\"https://raw.githubusercontent.com/ajayt0m/Text_Classification_Alleppey/main/WScraped.csv\"\n",
    "\n",
    "# Try reading the CSV file with 'latin1' encoding\n",
    "df = pd.read_csv(file_path, encoding='latin1')"
   ]
  },
  {
   "cell_type": "code",
   "execution_count": 3,
   "metadata": {},
   "outputs": [
    {
     "data": {
      "text/html": [
       "<div>\n",
       "<style scoped>\n",
       "    .dataframe tbody tr th:only-of-type {\n",
       "        vertical-align: middle;\n",
       "    }\n",
       "\n",
       "    .dataframe tbody tr th {\n",
       "        vertical-align: top;\n",
       "    }\n",
       "\n",
       "    .dataframe thead th {\n",
       "        text-align: right;\n",
       "    }\n",
       "</style>\n",
       "<table border=\"1\" class=\"dataframe\">\n",
       "  <thead>\n",
       "    <tr style=\"text-align: right;\">\n",
       "      <th></th>\n",
       "      <th>Id</th>\n",
       "      <th>Title</th>\n",
       "      <th>Review</th>\n",
       "      <th>Label</th>\n",
       "    </tr>\n",
       "  </thead>\n",
       "  <tbody>\n",
       "    <tr>\n",
       "      <th>0</th>\n",
       "      <td>1</td>\n",
       "      <td>Most overrated destination in kerala</td>\n",
       "      <td>I had a high expectations seeing this place in...</td>\n",
       "      <td>2</td>\n",
       "    </tr>\n",
       "    <tr>\n",
       "      <th>1</th>\n",
       "      <td>2</td>\n",
       "      <td>Venice of the East</td>\n",
       "      <td>Popularly known as'Venice of the East' Alleppe...</td>\n",
       "      <td>3</td>\n",
       "    </tr>\n",
       "    <tr>\n",
       "      <th>2</th>\n",
       "      <td>3</td>\n",
       "      <td>Alleppey is most polluted city</td>\n",
       "      <td>Hai friends, today I am telling you my bad exp...</td>\n",
       "      <td>1</td>\n",
       "    </tr>\n",
       "    <tr>\n",
       "      <th>3</th>\n",
       "      <td>4</td>\n",
       "      <td>Alleppey</td>\n",
       "      <td>Alleppey is one the best place to visit in Ker...</td>\n",
       "      <td>4</td>\n",
       "    </tr>\n",
       "    <tr>\n",
       "      <th>4</th>\n",
       "      <td>5</td>\n",
       "      <td>ABOUT EXPENSIVE ALLEPPEY TRIP</td>\n",
       "      <td>Alleppey one of the famous district in kerala....</td>\n",
       "      <td>1</td>\n",
       "    </tr>\n",
       "  </tbody>\n",
       "</table>\n",
       "</div>"
      ],
      "text/plain": [
       "   Id                                 Title  \\\n",
       "0   1  Most overrated destination in kerala   \n",
       "1   2                    Venice of the East   \n",
       "2   3        Alleppey is most polluted city   \n",
       "3   4                              Alleppey   \n",
       "4   5         ABOUT EXPENSIVE ALLEPPEY TRIP   \n",
       "\n",
       "                                              Review  Label  \n",
       "0  I had a high expectations seeing this place in...      2  \n",
       "1  Popularly known as'Venice of the East' Alleppe...      3  \n",
       "2  Hai friends, today I am telling you my bad exp...      1  \n",
       "3  Alleppey is one the best place to visit in Ker...      4  \n",
       "4  Alleppey one of the famous district in kerala....      1  "
      ]
     },
     "metadata": {},
     "output_type": "display_data"
    }
   ],
   "source": [
    "with pd.option_context(\"display.max_columns\", None, \"display.max_rows\", None):\n",
    "    display(df.head())"
   ]
  },
  {
   "cell_type": "code",
   "execution_count": 74,
   "metadata": {},
   "outputs": [
    {
     "data": {
      "text/html": [
       "<div>\n",
       "<style scoped>\n",
       "    .dataframe tbody tr th:only-of-type {\n",
       "        vertical-align: middle;\n",
       "    }\n",
       "\n",
       "    .dataframe tbody tr th {\n",
       "        vertical-align: top;\n",
       "    }\n",
       "\n",
       "    .dataframe thead th {\n",
       "        text-align: right;\n",
       "    }\n",
       "</style>\n",
       "<table border=\"1\" class=\"dataframe\">\n",
       "  <thead>\n",
       "    <tr style=\"text-align: right;\">\n",
       "      <th></th>\n",
       "      <th>Id</th>\n",
       "      <th>Title</th>\n",
       "      <th>Review</th>\n",
       "      <th>Label</th>\n",
       "    </tr>\n",
       "  </thead>\n",
       "  <tbody>\n",
       "    <tr>\n",
       "      <th>0</th>\n",
       "      <td>1</td>\n",
       "      <td>Most overrated destination in kerala</td>\n",
       "      <td>I had a high expectations seeing this place in...</td>\n",
       "      <td>2</td>\n",
       "    </tr>\n",
       "    <tr>\n",
       "      <th>1</th>\n",
       "      <td>2</td>\n",
       "      <td>Venice of the East</td>\n",
       "      <td>Popularly known as'Venice of the East' Alleppe...</td>\n",
       "      <td>3</td>\n",
       "    </tr>\n",
       "    <tr>\n",
       "      <th>2</th>\n",
       "      <td>3</td>\n",
       "      <td>Alleppey is most polluted city</td>\n",
       "      <td>Hai friends, today I am telling you my bad exp...</td>\n",
       "      <td>1</td>\n",
       "    </tr>\n",
       "    <tr>\n",
       "      <th>3</th>\n",
       "      <td>4</td>\n",
       "      <td>Alleppey</td>\n",
       "      <td>Alleppey is one the best place to visit in Ker...</td>\n",
       "      <td>4</td>\n",
       "    </tr>\n",
       "    <tr>\n",
       "      <th>4</th>\n",
       "      <td>5</td>\n",
       "      <td>ABOUT EXPENSIVE ALLEPPEY TRIP</td>\n",
       "      <td>Alleppey one of the famous district in kerala....</td>\n",
       "      <td>1</td>\n",
       "    </tr>\n",
       "    <tr>\n",
       "      <th>...</th>\n",
       "      <td>...</td>\n",
       "      <td>...</td>\n",
       "      <td>...</td>\n",
       "      <td>...</td>\n",
       "    </tr>\n",
       "    <tr>\n",
       "      <th>95</th>\n",
       "      <td>96</td>\n",
       "      <td>NaN</td>\n",
       "      <td>Beach was good and clean. We went early in the...</td>\n",
       "      <td>5</td>\n",
       "    </tr>\n",
       "    <tr>\n",
       "      <th>96</th>\n",
       "      <td>97</td>\n",
       "      <td>NaN</td>\n",
       "      <td>Badly kept beach, authorities have no concern ...</td>\n",
       "      <td>1</td>\n",
       "    </tr>\n",
       "    <tr>\n",
       "      <th>97</th>\n",
       "      <td>98</td>\n",
       "      <td>NaN</td>\n",
       "      <td>Nice beach, best to visit early morning. Most ...</td>\n",
       "      <td>3</td>\n",
       "    </tr>\n",
       "    <tr>\n",
       "      <th>98</th>\n",
       "      <td>99</td>\n",
       "      <td>NaN</td>\n",
       "      <td>Alappuzha Beach is known for its picturesque b...</td>\n",
       "      <td>4</td>\n",
       "    </tr>\n",
       "    <tr>\n",
       "      <th>99</th>\n",
       "      <td>100</td>\n",
       "      <td>NaN</td>\n",
       "      <td>Beach was good but crowded. Be careful while w...</td>\n",
       "      <td>4</td>\n",
       "    </tr>\n",
       "  </tbody>\n",
       "</table>\n",
       "<p>100 rows × 4 columns</p>\n",
       "</div>"
      ],
      "text/plain": [
       "     Id                                 Title  \\\n",
       "0     1  Most overrated destination in kerala   \n",
       "1     2                    Venice of the East   \n",
       "2     3        Alleppey is most polluted city   \n",
       "3     4                              Alleppey   \n",
       "4     5         ABOUT EXPENSIVE ALLEPPEY TRIP   \n",
       "..  ...                                   ...   \n",
       "95   96                                   NaN   \n",
       "96   97                                   NaN   \n",
       "97   98                                   NaN   \n",
       "98   99                                   NaN   \n",
       "99  100                                   NaN   \n",
       "\n",
       "                                               Review  Label  \n",
       "0   I had a high expectations seeing this place in...      2  \n",
       "1   Popularly known as'Venice of the East' Alleppe...      3  \n",
       "2   Hai friends, today I am telling you my bad exp...      1  \n",
       "3   Alleppey is one the best place to visit in Ker...      4  \n",
       "4   Alleppey one of the famous district in kerala....      1  \n",
       "..                                                ...    ...  \n",
       "95  Beach was good and clean. We went early in the...      5  \n",
       "96  Badly kept beach, authorities have no concern ...      1  \n",
       "97  Nice beach, best to visit early morning. Most ...      3  \n",
       "98  Alappuzha Beach is known for its picturesque b...      4  \n",
       "99  Beach was good but crowded. Be careful while w...      4  \n",
       "\n",
       "[100 rows x 4 columns]"
      ]
     },
     "execution_count": 74,
     "metadata": {},
     "output_type": "execute_result"
    }
   ],
   "source": [
    "df"
   ]
  },
  {
   "cell_type": "markdown",
   "metadata": {},
   "source": [
    "# Step 3: Data Transformation"
   ]
  },
  {
   "cell_type": "code",
   "execution_count": 4,
   "metadata": {},
   "outputs": [],
   "source": [
    "#1. Feature Engineering - Merge Title and review \n",
    "# Fill NaN values in 'Title' column with an empty string\n",
    "df['Title'].fillna('', inplace=True)\n",
    "\n",
    "# Create a new column 'Title_Review' by concatenating 'Title' and 'Review'\n",
    "df['Title_Review'] = df['Title'] + '. ' + df['Review']"
   ]
  },
  {
   "cell_type": "code",
   "execution_count": 5,
   "metadata": {},
   "outputs": [],
   "source": [
    "#2. Feature Engineering - Creating new labels\n",
    "# Define a function to simplify the labels\n",
    "def simplify_label(label):\n",
    "    if label in [4, 5]:\n",
    "        return 'Happy Visit'\n",
    "    elif label == 3:\n",
    "        return 'Ok Visit'\n",
    "    elif label in [1, 2]:\n",
    "        return 'Bad Visit'\n",
    "    else:\n",
    "        return 'Unknown'  # You can adjust this based on your specific needs\n",
    "\n",
    "# Apply the function to create the new column 'Label_simplified'\n",
    "df['Label_simplified'] = df['Label'].apply(simplify_label)"
   ]
  },
  {
   "cell_type": "code",
   "execution_count": 6,
   "metadata": {},
   "outputs": [
    {
     "data": {
      "text/html": [
       "<div>\n",
       "<style scoped>\n",
       "    .dataframe tbody tr th:only-of-type {\n",
       "        vertical-align: middle;\n",
       "    }\n",
       "\n",
       "    .dataframe tbody tr th {\n",
       "        vertical-align: top;\n",
       "    }\n",
       "\n",
       "    .dataframe thead th {\n",
       "        text-align: right;\n",
       "    }\n",
       "</style>\n",
       "<table border=\"1\" class=\"dataframe\">\n",
       "  <thead>\n",
       "    <tr style=\"text-align: right;\">\n",
       "      <th></th>\n",
       "      <th>Id</th>\n",
       "      <th>Title</th>\n",
       "      <th>Review</th>\n",
       "      <th>Label</th>\n",
       "      <th>Title_Review</th>\n",
       "      <th>Label_simplified</th>\n",
       "    </tr>\n",
       "  </thead>\n",
       "  <tbody>\n",
       "    <tr>\n",
       "      <th>0</th>\n",
       "      <td>1</td>\n",
       "      <td>Most overrated destination in kerala</td>\n",
       "      <td>I had a high expectations seeing this place in...</td>\n",
       "      <td>2</td>\n",
       "      <td>Most overrated destination in kerala. I had a ...</td>\n",
       "      <td>Bad Visit</td>\n",
       "    </tr>\n",
       "    <tr>\n",
       "      <th>1</th>\n",
       "      <td>2</td>\n",
       "      <td>Venice of the East</td>\n",
       "      <td>Popularly known as'Venice of the East' Alleppe...</td>\n",
       "      <td>3</td>\n",
       "      <td>Venice of the East. Popularly known as'Venice ...</td>\n",
       "      <td>Ok Visit</td>\n",
       "    </tr>\n",
       "    <tr>\n",
       "      <th>2</th>\n",
       "      <td>3</td>\n",
       "      <td>Alleppey is most polluted city</td>\n",
       "      <td>Hai friends, today I am telling you my bad exp...</td>\n",
       "      <td>1</td>\n",
       "      <td>Alleppey is most polluted city. Hai friends, t...</td>\n",
       "      <td>Bad Visit</td>\n",
       "    </tr>\n",
       "    <tr>\n",
       "      <th>3</th>\n",
       "      <td>4</td>\n",
       "      <td>Alleppey</td>\n",
       "      <td>Alleppey is one the best place to visit in Ker...</td>\n",
       "      <td>4</td>\n",
       "      <td>Alleppey. Alleppey is one the best place to vi...</td>\n",
       "      <td>Happy Visit</td>\n",
       "    </tr>\n",
       "    <tr>\n",
       "      <th>4</th>\n",
       "      <td>5</td>\n",
       "      <td>ABOUT EXPENSIVE ALLEPPEY TRIP</td>\n",
       "      <td>Alleppey one of the famous district in kerala....</td>\n",
       "      <td>1</td>\n",
       "      <td>ABOUT EXPENSIVE ALLEPPEY TRIP. Alleppey one of...</td>\n",
       "      <td>Bad Visit</td>\n",
       "    </tr>\n",
       "  </tbody>\n",
       "</table>\n",
       "</div>"
      ],
      "text/plain": [
       "   Id                                 Title  \\\n",
       "0   1  Most overrated destination in kerala   \n",
       "1   2                    Venice of the East   \n",
       "2   3        Alleppey is most polluted city   \n",
       "3   4                              Alleppey   \n",
       "4   5         ABOUT EXPENSIVE ALLEPPEY TRIP   \n",
       "\n",
       "                                              Review  Label  \\\n",
       "0  I had a high expectations seeing this place in...      2   \n",
       "1  Popularly known as'Venice of the East' Alleppe...      3   \n",
       "2  Hai friends, today I am telling you my bad exp...      1   \n",
       "3  Alleppey is one the best place to visit in Ker...      4   \n",
       "4  Alleppey one of the famous district in kerala....      1   \n",
       "\n",
       "                                        Title_Review Label_simplified  \n",
       "0  Most overrated destination in kerala. I had a ...        Bad Visit  \n",
       "1  Venice of the East. Popularly known as'Venice ...         Ok Visit  \n",
       "2  Alleppey is most polluted city. Hai friends, t...        Bad Visit  \n",
       "3  Alleppey. Alleppey is one the best place to vi...      Happy Visit  \n",
       "4  ABOUT EXPENSIVE ALLEPPEY TRIP. Alleppey one of...        Bad Visit  "
      ]
     },
     "metadata": {},
     "output_type": "display_data"
    }
   ],
   "source": [
    "with pd.option_context(\"display.max_columns\", None, \"display.max_rows\", None):\n",
    "    display(df.head())"
   ]
  },
  {
   "cell_type": "markdown",
   "metadata": {},
   "source": [
    "## Step 4: Exploratory Data Analysis"
   ]
  },
  {
   "cell_type": "code",
   "execution_count": 7,
   "metadata": {},
   "outputs": [
    {
     "name": "stdout",
     "output_type": "stream",
     "text": [
      "Happy Visit    66\n",
      "Bad Visit      21\n",
      "Ok Visit       13\n",
      "Name: Label_simplified, dtype: int64\n"
     ]
    },
    {
     "data": {
      "image/png": "[encoded data removed]",
      "text/plain": [
       "<Figure size 800x600 with 1 Axes>"
      ]
     },
     "metadata": {},
     "output_type": "display_data"
    }
   ],
   "source": [
    "#1. Class Distribution\n",
    "x=df['Label_simplified'].value_counts()\n",
    "print(x)\n",
    "\n",
    "# Check the class distribution\n",
    "class_distribution = df['Label_simplified'].value_counts()\n",
    "\n",
    "# Plotting the bar plot\n",
    "plt.figure(figsize=(8, 6))\n",
    "sns.barplot(x=class_distribution.index, y=class_distribution)\n",
    "plt.title('Class Distribution')\n",
    "plt.xlabel('Class Label')\n",
    "plt.ylabel('Count')\n",
    "plt.show()"
   ]
  },
  {
   "cell_type": "code",
   "execution_count": 8,
   "metadata": {},
   "outputs": [
    {
     "data": {
      "text/plain": [
       "Id                  0\n",
       "Title               0\n",
       "Review              0\n",
       "Label               0\n",
       "Title_Review        0\n",
       "Label_simplified    0\n",
       "dtype: int64"
      ]
     },
     "execution_count": 8,
     "metadata": {},
     "output_type": "execute_result"
    }
   ],
   "source": [
    "#2. Missing Values\n",
    "df.isna().sum()"
   ]
  },
  {
   "cell_type": "code",
   "execution_count": 9,
   "metadata": {},
   "outputs": [
    {
     "name": "stdout",
     "output_type": "stream",
     "text": [
      "225.25757575757575\n",
      "310.8095238095238\n",
      "115.46153846153847\n"
     ]
    }
   ],
   "source": [
    "#3. Word Count - Number of words in each review\n",
    "df['word_count'] = df['Title_Review'].apply(lambda x: len(str(x).split()))\n",
    "print(df[df['Label_simplified']=='Happy Visit']['word_count'].mean()) #Happy Visit\n",
    "print(df[df['Label_simplified']=='Bad Visit']['word_count'].mean()) #Bad Visit\n",
    "print(df[df['Label_simplified']=='Ok Visit']['word_count'].mean()) #Ok Visit"
   ]
  },
  {
   "cell_type": "code",
   "execution_count": 10,
   "metadata": {},
   "outputs": [
    {
     "data": {
      "image/png": "[encoded data removed]",
      "text/plain": [
       "<Figure size 1200x400 with 3 Axes>"
      ]
     },
     "metadata": {},
     "output_type": "display_data"
    }
   ],
   "source": [
    "# PLOTTING WORD-COUNT\n",
    "fig,(ax1,ax2,ax3)=plt.subplots(1,3,figsize=(12,4))\n",
    "\n",
    "words=df[df['Label_simplified']=='Happy Visit']['word_count']\n",
    "ax1.hist(words,color='red')\n",
    "ax1.set_title('Happy Visit Reviews')\n",
    "\n",
    "words=df[df['Label_simplified']=='Bad Visit']['word_count']\n",
    "ax2.hist(words,color='blue')\n",
    "ax2.set_title('Bad Visit Reviews')\n",
    "\n",
    "words=df[df['Label_simplified']=='Ok Visit']['word_count']\n",
    "ax3.hist(words,color='green')\n",
    "ax3.set_title('Ok Visit Reviews')\n",
    "\n",
    "fig.suptitle('Words per review')\n",
    "plt.show()"
   ]
  },
  {
   "cell_type": "code",
   "execution_count": 11,
   "metadata": {},
   "outputs": [
    {
     "name": "stdout",
     "output_type": "stream",
     "text": [
      "1273.1515151515152\n",
      "1686.0\n",
      "667.6153846153846\n"
     ]
    }
   ],
   "source": [
    "#4. Character Count - Number of characters in a review\n",
    "df['char_count'] = df['Title_Review'].apply(lambda x: len(str(x)))\n",
    "print(df[df['Label_simplified']=='Happy Visit']['char_count'].mean()) #Happy Visit\n",
    "print(df[df['Label_simplified']=='Bad Visit']['char_count'].mean()) #Bad Visit\n",
    "print(df[df['Label_simplified']=='Ok Visit']['char_count'].mean()) #Ok Visit"
   ]
  },
  {
   "cell_type": "code",
   "execution_count": 12,
   "metadata": {},
   "outputs": [
    {
     "data": {
      "image/png": "[encoded data removed]",
      "text/plain": [
       "<Figure size 1200x400 with 3 Axes>"
      ]
     },
     "metadata": {},
     "output_type": "display_data"
    }
   ],
   "source": [
    "# PLOTTING Character Count\n",
    "fig,(ax1,ax2,ax3)=plt.subplots(1,3,figsize=(12,4))\n",
    "\n",
    "words=df[df['Label_simplified']=='Happy Visit']['char_count']\n",
    "ax1.hist(words,color='red')\n",
    "ax1.set_title('Happy Visit Reviews')\n",
    "\n",
    "words=df[df['Label_simplified']=='Bad Visit']['char_count']\n",
    "ax2.hist(words,color='blue')\n",
    "ax2.set_title('Bad Visit Reviews')\n",
    "\n",
    "words=df[df['Label_simplified']=='Ok Visit']['char_count']\n",
    "ax3.hist(words,color='green')\n",
    "ax3.set_title('Ok Visit Reviews')\n",
    "\n",
    "fig.suptitle('Characters per review')\n",
    "plt.show()"
   ]
  },
  {
   "cell_type": "markdown",
   "metadata": {},
   "source": [
    "# Step 5: Text Pre-Processing"
   ]
  },
  {
   "cell_type": "code",
   "execution_count": 13,
   "metadata": {},
   "outputs": [],
   "source": [
    "#convert to lowercase, strip and remove punctuations\n",
    "def preprocess(text):\n",
    "    text = text.lower() \n",
    "    text=text.strip()  \n",
    "    text=re.compile('<.*?>').sub('', text) \n",
    "    text = re.compile('[%s]' % re.escape(string.punctuation)).sub(' ', text)  \n",
    "    text = re.sub('\\s+', ' ', text)  \n",
    "    text = re.sub(r'\\[[0-9]*\\]',' ',text) \n",
    "    text=re.sub(r'[^\\w\\s]', '', str(text).lower().strip())\n",
    "    text = re.sub(r'\\d',' ',text) \n",
    "    text = re.sub(r'\\s+',' ',text) \n",
    "    return text\n",
    "\n",
    "# STOPWORD REMOVAL\n",
    "def stopword(string):\n",
    "    a= [i for i in string.split() if i not in stopwords.words('english')]\n",
    "    return ' '.join(a)\n",
    "\n",
    "#LEMMATIZATION\n",
    "# Initialize the lemmatizer\n",
    "wl = WordNetLemmatizer()\n",
    " \n",
    "# This is a helper function to map NTLK position tags\n",
    "def get_wordnet_pos(tag):\n",
    "    if tag.startswith('J'):\n",
    "        return wordnet.ADJ\n",
    "    elif tag.startswith('V'):\n",
    "        return wordnet.VERB\n",
    "    elif tag.startswith('N'):\n",
    "        return wordnet.NOUN\n",
    "    elif tag.startswith('R'):\n",
    "        return wordnet.ADV\n",
    "    else:\n",
    "        return wordnet.NOUN\n",
    "        \n",
    "# Tokenize the sentence\n",
    "def lemmatizer(string):\n",
    "    word_pos_tags = nltk.pos_tag(word_tokenize(string)) # Get position tags\n",
    "    a=[wl.lemmatize(tag[0], get_wordnet_pos(tag[1])) for idx, tag in enumerate(word_pos_tags)] # Map the position tag and lemmatize the word/token\n",
    "    return \" \".join(a)"
   ]
  },
  {
   "cell_type": "code",
   "execution_count": 14,
   "metadata": {},
   "outputs": [
    {
     "data": {
      "text/html": [
       "<div>\n",
       "<style scoped>\n",
       "    .dataframe tbody tr th:only-of-type {\n",
       "        vertical-align: middle;\n",
       "    }\n",
       "\n",
       "    .dataframe tbody tr th {\n",
       "        vertical-align: top;\n",
       "    }\n",
       "\n",
       "    .dataframe thead th {\n",
       "        text-align: right;\n",
       "    }\n",
       "</style>\n",
       "<table border=\"1\" class=\"dataframe\">\n",
       "  <thead>\n",
       "    <tr style=\"text-align: right;\">\n",
       "      <th></th>\n",
       "      <th>Id</th>\n",
       "      <th>Title</th>\n",
       "      <th>Review</th>\n",
       "      <th>Label</th>\n",
       "      <th>Title_Review</th>\n",
       "      <th>Label_simplified</th>\n",
       "      <th>word_count</th>\n",
       "      <th>char_count</th>\n",
       "      <th>clean_text</th>\n",
       "    </tr>\n",
       "  </thead>\n",
       "  <tbody>\n",
       "    <tr>\n",
       "      <th>0</th>\n",
       "      <td>1</td>\n",
       "      <td>Most overrated destination in kerala</td>\n",
       "      <td>I had a high expectations seeing this place in...</td>\n",
       "      <td>2</td>\n",
       "      <td>Most overrated destination in kerala. I had a ...</td>\n",
       "      <td>Bad Visit</td>\n",
       "      <td>48</td>\n",
       "      <td>282</td>\n",
       "      <td>overrate destination kerala high expectation s...</td>\n",
       "    </tr>\n",
       "    <tr>\n",
       "      <th>1</th>\n",
       "      <td>2</td>\n",
       "      <td>Venice of the East</td>\n",
       "      <td>Popularly known as'Venice of the East' Alleppe...</td>\n",
       "      <td>3</td>\n",
       "      <td>Venice of the East. Popularly known as'Venice ...</td>\n",
       "      <td>Ok Visit</td>\n",
       "      <td>149</td>\n",
       "      <td>904</td>\n",
       "      <td>venice east popularly know venice east alleppe...</td>\n",
       "    </tr>\n",
       "    <tr>\n",
       "      <th>2</th>\n",
       "      <td>3</td>\n",
       "      <td>Alleppey is most polluted city</td>\n",
       "      <td>Hai friends, today I am telling you my bad exp...</td>\n",
       "      <td>1</td>\n",
       "      <td>Alleppey is most polluted city. Hai friends, t...</td>\n",
       "      <td>Bad Visit</td>\n",
       "      <td>120</td>\n",
       "      <td>649</td>\n",
       "      <td>alleppey pollute city hai friend today tell ba...</td>\n",
       "    </tr>\n",
       "    <tr>\n",
       "      <th>3</th>\n",
       "      <td>4</td>\n",
       "      <td>Alleppey</td>\n",
       "      <td>Alleppey is one the best place to visit in Ker...</td>\n",
       "      <td>4</td>\n",
       "      <td>Alleppey. Alleppey is one the best place to vi...</td>\n",
       "      <td>Happy Visit</td>\n",
       "      <td>60</td>\n",
       "      <td>320</td>\n",
       "      <td>alleppey alleppey one best place visit kerala ...</td>\n",
       "    </tr>\n",
       "    <tr>\n",
       "      <th>4</th>\n",
       "      <td>5</td>\n",
       "      <td>ABOUT EXPENSIVE ALLEPPEY TRIP</td>\n",
       "      <td>Alleppey one of the famous district in kerala....</td>\n",
       "      <td>1</td>\n",
       "      <td>ABOUT EXPENSIVE ALLEPPEY TRIP. Alleppey one of...</td>\n",
       "      <td>Bad Visit</td>\n",
       "      <td>258</td>\n",
       "      <td>1434</td>\n",
       "      <td>expensive alleppey trip alleppey one famous di...</td>\n",
       "    </tr>\n",
       "  </tbody>\n",
       "</table>\n",
       "</div>"
      ],
      "text/plain": [
       "   Id                                 Title  \\\n",
       "0   1  Most overrated destination in kerala   \n",
       "1   2                    Venice of the East   \n",
       "2   3        Alleppey is most polluted city   \n",
       "3   4                              Alleppey   \n",
       "4   5         ABOUT EXPENSIVE ALLEPPEY TRIP   \n",
       "\n",
       "                                              Review  Label  \\\n",
       "0  I had a high expectations seeing this place in...      2   \n",
       "1  Popularly known as'Venice of the East' Alleppe...      3   \n",
       "2  Hai friends, today I am telling you my bad exp...      1   \n",
       "3  Alleppey is one the best place to visit in Ker...      4   \n",
       "4  Alleppey one of the famous district in kerala....      1   \n",
       "\n",
       "                                        Title_Review Label_simplified  \\\n",
       "0  Most overrated destination in kerala. I had a ...        Bad Visit   \n",
       "1  Venice of the East. Popularly known as'Venice ...         Ok Visit   \n",
       "2  Alleppey is most polluted city. Hai friends, t...        Bad Visit   \n",
       "3  Alleppey. Alleppey is one the best place to vi...      Happy Visit   \n",
       "4  ABOUT EXPENSIVE ALLEPPEY TRIP. Alleppey one of...        Bad Visit   \n",
       "\n",
       "   word_count  char_count                                         clean_text  \n",
       "0          48         282  overrate destination kerala high expectation s...  \n",
       "1         149         904  venice east popularly know venice east alleppe...  \n",
       "2         120         649  alleppey pollute city hai friend today tell ba...  \n",
       "3          60         320  alleppey alleppey one best place visit kerala ...  \n",
       "4         258        1434  expensive alleppey trip alleppey one famous di...  "
      ]
     },
     "execution_count": 14,
     "metadata": {},
     "output_type": "execute_result"
    }
   ],
   "source": [
    "def finalpreprocess(string):\n",
    "    return lemmatizer(stopword(preprocess(string)))\n",
    "\n",
    "df['clean_text'] = df['Title_Review'].apply(lambda x: finalpreprocess(x))\n",
    "df.head()"
   ]
  },
  {
   "cell_type": "markdown",
   "metadata": {},
   "source": [
    "# Step 6: Extracting vectors from text (Vectorization)"
   ]
  },
  {
   "cell_type": "code",
   "execution_count": 45,
   "metadata": {},
   "outputs": [
    {
     "name": "stdout",
     "output_type": "stream",
     "text": [
      "Training Data Shape:  (67,)\n",
      "Training Label Shape:  (67,)\n",
      "Testing Data Shape:  (33,)\n",
      "Testing Label Shape:  (33,)\n"
     ]
    }
   ],
   "source": [
    "#SPLITTING THE TRAINING DATASET INTO TRAIN AND TEST\n",
    "X_train, X_test, y_train, y_test = train_test_split(df[\"clean_text\"],df[\"Label_simplified\"],test_size=0.33,random_state=42)\n",
    "\n",
    "print('Training Data Shape: ', X_train.shape)\n",
    "print('Training Label Shape: ', y_train.shape)\n",
    "print('Testing Data Shape: ', X_test.shape)\n",
    "print('Testing Label Shape: ', y_test.shape)"
   ]
  },
  {
   "cell_type": "code",
   "execution_count": 47,
   "metadata": {},
   "outputs": [],
   "source": [
    "#Tf-Idf\n",
    "tfidf_vectorizer = TfidfVectorizer(use_idf=True)\n",
    "X_train_vectors_tfidf = tfidf_vectorizer.fit_transform(X_train) \n",
    "X_test_vectors_tfidf = tfidf_vectorizer.transform(X_test)"
   ]
  },
  {
   "cell_type": "code",
   "execution_count": 48,
   "metadata": {},
   "outputs": [],
   "source": [
    "#Word2Vec\n",
    "# Word2Vec runs on tokenized sentences\n",
    "X_train_tok= [nltk.word_tokenize(i) for i in X_train]  \n",
    "X_test_tok= [nltk.word_tokenize(i) for i in X_test]\n",
    "\n",
    "#building Word2Vec model\n",
    "class MeanEmbeddingVectorizer(object):\n",
    "    def __init__(self, word2vec):\n",
    "        self.word2vec = word2vec\n",
    "        # if a text is empty we should return a vector of zeros\n",
    "        # with the same dimensionality as all the other vectors\n",
    "        self.dim = len(next(iter(word2vec.values())))\n",
    "\n",
    "    def fit(self, X, y):\n",
    "            return self\n",
    "\n",
    "    def transform(self, X):\n",
    "            return np.array([\n",
    "                np.mean([self.word2vec[w] for w in words if w in self.word2vec]\n",
    "                        or [np.zeros(self.dim)], axis=0)\n",
    "                for words in X\n",
    "            ])\n",
    "\n",
    "df['clean_text_tok'] = [nltk.word_tokenize(i) for i in df['clean_text']]\n",
    "model = Word2Vec(df['clean_text_tok'], min_count=1)\n",
    "w2v = dict(zip(model.wv.index_to_key, model.wv.vectors))\n",
    "modelw = MeanEmbeddingVectorizer(w2v)\n",
    "\n",
    "# converting text to numerical data using Word2Vec\n",
    "X_train_vectors_w2v = modelw.transform(X_train_tok)\n",
    "X_test_vectors_w2v = modelw.transform(X_test_tok)"
   ]
  },
  {
   "cell_type": "markdown",
   "metadata": {},
   "source": [
    "# Step 7: ML Models"
   ]
  },
  {
   "cell_type": "markdown",
   "metadata": {},
   "source": [
    "## 7.1 Logistic Regression"
   ]
  },
  {
   "cell_type": "code",
   "execution_count": 49,
   "metadata": {},
   "outputs": [],
   "source": [
    "#Class Imbalance Handling\n",
    "# Compute class weights based on the training data\n",
    "class_weights = compute_class_weight('balanced', classes=np.unique(df['Label_simplified']), y=df['Label_simplified'])\n",
    "\n",
    "# Create a dictionary to pass to the model\n",
    "class_weight_dict = dict(zip(np.unique(df['Label_simplified']), class_weights))"
   ]
  },
  {
   "cell_type": "code",
   "execution_count": 50,
   "metadata": {},
   "outputs": [
    {
     "name": "stdout",
     "output_type": "stream",
     "text": [
      "              precision    recall  f1-score   support\n",
      "\n",
      "   Bad Visit       1.00      0.25      0.40         8\n",
      " Happy Visit       0.69      0.95      0.80        21\n",
      "    Ok Visit       0.50      0.25      0.33         4\n",
      "\n",
      "    accuracy                           0.70        33\n",
      "   macro avg       0.73      0.48      0.51        33\n",
      "weighted avg       0.74      0.70      0.65        33\n",
      "\n",
      "Confusion Matrix: \n",
      " [[ 2  6  0]\n",
      " [ 0 20  1]\n",
      " [ 0  3  1]]\n"
     ]
    }
   ],
   "source": [
    "#FITTING THE CLASSIFICATION MODEL using Logistic Regression(tf-idf)\n",
    "lr_tfidf=LogisticRegression(solver = 'liblinear', C=10, penalty = 'l2', class_weight=class_weight_dict)\n",
    "lr_tfidf.fit(X_train_vectors_tfidf, y_train)  \n",
    "\n",
    "#Predict y value for test dataset\n",
    "y_predict = lr_tfidf.predict(X_test_vectors_tfidf)\n",
    "print(classification_report(y_test,y_predict))\n",
    "conf_matrix = confusion_matrix(y_test, y_predict)\n",
    "print('Confusion Matrix: \\n',conf_matrix)"
   ]
  },
  {
   "cell_type": "code",
   "execution_count": 51,
   "metadata": {},
   "outputs": [
    {
     "data": {
      "image/png": "[encoded data removed]",
      "text/plain": [
       "<Figure size 800x600 with 2 Axes>"
      ]
     },
     "metadata": {},
     "output_type": "display_data"
    }
   ],
   "source": [
    "# Create a heatmap of the confusion matrix\n",
    "plt.figure(figsize=(8, 6))\n",
    "sns.heatmap(conf_matrix, annot=True, fmt='d', cmap='Blues', xticklabels=lr_tfidf.classes_, yticklabels=lr_tfidf.classes_)\n",
    "plt.title('Confusion Matrix')\n",
    "plt.xlabel('Predicted Label')\n",
    "plt.ylabel('True Label')\n",
    "plt.show()"
   ]
  },
  {
   "cell_type": "code",
   "execution_count": 65,
   "metadata": {},
   "outputs": [
    {
     "name": "stdout",
     "output_type": "stream",
     "text": [
      "              precision    recall  f1-score   support\n",
      "\n",
      "   Bad Visit       0.00      0.00      0.00         8\n",
      " Happy Visit       0.64      1.00      0.78        21\n",
      "    Ok Visit       0.00      0.00      0.00         4\n",
      "\n",
      "    accuracy                           0.64        33\n",
      "   macro avg       0.21      0.33      0.26        33\n",
      "weighted avg       0.40      0.64      0.49        33\n",
      "\n",
      "Confusion Matrix: \n",
      " [[ 0  8  0]\n",
      " [ 0 21  0]\n",
      " [ 0  4  0]]\n"
     ]
    },
    {
     "name": "stderr",
     "output_type": "stream",
     "text": [
      "d:\\Softwares\\Python\\Python39\\lib\\site-packages\\sklearn\\metrics\\_classification.py:1469: UndefinedMetricWarning: Precision and F-score are ill-defined and being set to 0.0 in labels with no predicted samples. Use `zero_division` parameter to control this behavior.\n",
      "  _warn_prf(average, modifier, msg_start, len(result))\n",
      "d:\\Softwares\\Python\\Python39\\lib\\site-packages\\sklearn\\metrics\\_classification.py:1469: UndefinedMetricWarning: Precision and F-score are ill-defined and being set to 0.0 in labels with no predicted samples. Use `zero_division` parameter to control this behavior.\n",
      "  _warn_prf(average, modifier, msg_start, len(result))\n",
      "d:\\Softwares\\Python\\Python39\\lib\\site-packages\\sklearn\\metrics\\_classification.py:1469: UndefinedMetricWarning: Precision and F-score are ill-defined and being set to 0.0 in labels with no predicted samples. Use `zero_division` parameter to control this behavior.\n",
      "  _warn_prf(average, modifier, msg_start, len(result))\n"
     ]
    }
   ],
   "source": [
    "#FITTING THE CLASSIFICATION MODEL using Logistic Regression (W2v)\n",
    "lr_w2v=LogisticRegression(solver = 'liblinear', C=10, penalty = 'l2', class_weight=class_weight_dict)\n",
    "lr_w2v.fit(X_train_vectors_w2v, y_train)\n",
    "\n",
    "#Predict y value for test dataset\n",
    "y_predict = lr_w2v.predict(X_test_vectors_w2v)\n",
    "print(classification_report(y_test,y_predict))\n",
    "conf_matrix = confusion_matrix(y_test, y_predict)\n",
    "print('Confusion Matrix: \\n',conf_matrix)"
   ]
  },
  {
   "cell_type": "code",
   "execution_count": 66,
   "metadata": {},
   "outputs": [
    {
     "data": {
      "image/png": "[encoded data removed]",
      "text/plain": [
       "<Figure size 800x600 with 2 Axes>"
      ]
     },
     "metadata": {},
     "output_type": "display_data"
    }
   ],
   "source": [
    "# Create a heatmap of the confusion matrix\n",
    "plt.figure(figsize=(8, 6))\n",
    "sns.heatmap(conf_matrix, annot=True, fmt='d', cmap='Blues', xticklabels=lr_w2v.classes_, yticklabels=lr_w2v.classes_)\n",
    "plt.title('Confusion Matrix')\n",
    "plt.xlabel('Predicted Label')\n",
    "plt.ylabel('True Label')\n",
    "plt.show()"
   ]
  },
  {
   "cell_type": "markdown",
   "metadata": {},
   "source": [
    "## 7.2 Naive Bayes"
   ]
  },
  {
   "cell_type": "code",
   "execution_count": 54,
   "metadata": {},
   "outputs": [],
   "source": [
    "# Class Imbalance Handling\n",
    "# Calculate prior probabilities for each class\n",
    "class_counts = y_train.value_counts()\n",
    "class_priors = class_counts / class_counts.sum()"
   ]
  },
  {
   "cell_type": "code",
   "execution_count": 67,
   "metadata": {},
   "outputs": [
    {
     "name": "stdout",
     "output_type": "stream",
     "text": [
      "              precision    recall  f1-score   support\n",
      "\n",
      "   Bad Visit       0.39      0.88      0.54         8\n",
      " Happy Visit       0.80      0.57      0.67        21\n",
      "    Ok Visit       0.00      0.00      0.00         4\n",
      "\n",
      "    accuracy                           0.58        33\n",
      "   macro avg       0.40      0.48      0.40        33\n",
      "weighted avg       0.60      0.58      0.55        33\n",
      "\n",
      "Confusion Matrix: \n",
      " [[ 7  1  0]\n",
      " [ 9 12  0]\n",
      " [ 2  2  0]]\n"
     ]
    },
    {
     "name": "stderr",
     "output_type": "stream",
     "text": [
      "d:\\Softwares\\Python\\Python39\\lib\\site-packages\\sklearn\\metrics\\_classification.py:1469: UndefinedMetricWarning: Precision and F-score are ill-defined and being set to 0.0 in labels with no predicted samples. Use `zero_division` parameter to control this behavior.\n",
      "  _warn_prf(average, modifier, msg_start, len(result))\n",
      "d:\\Softwares\\Python\\Python39\\lib\\site-packages\\sklearn\\metrics\\_classification.py:1469: UndefinedMetricWarning: Precision and F-score are ill-defined and being set to 0.0 in labels with no predicted samples. Use `zero_division` parameter to control this behavior.\n",
      "  _warn_prf(average, modifier, msg_start, len(result))\n",
      "d:\\Softwares\\Python\\Python39\\lib\\site-packages\\sklearn\\metrics\\_classification.py:1469: UndefinedMetricWarning: Precision and F-score are ill-defined and being set to 0.0 in labels with no predicted samples. Use `zero_division` parameter to control this behavior.\n",
      "  _warn_prf(average, modifier, msg_start, len(result))\n"
     ]
    }
   ],
   "source": [
    "#FITTING THE CLASSIFICATION MODEL using Naive Bayes(tf-idf)\n",
    "nb_tfidf = MultinomialNB(class_prior=class_priors.values)\n",
    "nb_tfidf.fit(X_train_vectors_tfidf, y_train)  \n",
    "\n",
    "#Predict y value for test dataset\n",
    "y_predict = nb_tfidf.predict(X_test_vectors_tfidf)\n",
    "print(classification_report(y_test,y_predict))\n",
    "conf_matrix = confusion_matrix(y_test, y_predict)\n",
    "print('Confusion Matrix: \\n',conf_matrix)"
   ]
  },
  {
   "cell_type": "code",
   "execution_count": 68,
   "metadata": {},
   "outputs": [
    {
     "data": {
      "image/png": "[encoded data removed]",
      "text/plain": [
       "<Figure size 800x600 with 2 Axes>"
      ]
     },
     "metadata": {},
     "output_type": "display_data"
    }
   ],
   "source": [
    "# Create a heatmap of the confusion matrix\n",
    "plt.figure(figsize=(8, 6))\n",
    "sns.heatmap(conf_matrix, annot=True, fmt='d', cmap='Blues', xticklabels=nb_tfidf.classes_, yticklabels=nb_tfidf.classes_)\n",
    "plt.title('Confusion Matrix')\n",
    "plt.xlabel('Predicted Label')\n",
    "plt.ylabel('True Label')\n",
    "plt.show()"
   ]
  },
  {
   "cell_type": "code",
   "execution_count": 62,
   "metadata": {},
   "outputs": [
    {
     "name": "stdout",
     "output_type": "stream",
     "text": [
      "              precision    recall  f1-score   support\n",
      "\n",
      "   Bad Visit       0.25      0.12      0.17         8\n",
      " Happy Visit       0.75      0.43      0.55        21\n",
      "    Ok Visit       0.12      0.50      0.19         4\n",
      "\n",
      "    accuracy                           0.36        33\n",
      "   macro avg       0.37      0.35      0.30        33\n",
      "weighted avg       0.55      0.36      0.41        33\n",
      "\n",
      "Confusion Matrix: \n",
      " [[ 1  3  4]\n",
      " [ 1  9 11]\n",
      " [ 2  0  2]]\n"
     ]
    }
   ],
   "source": [
    "#FITTING THE CLASSIFICATION MODEL using Naive Bayes(W2v)\n",
    "nb_w2v = GaussianNB(priors=class_priors.values)\n",
    "nb_w2v.fit(X_train_vectors_w2v, y_train)  \n",
    "\n",
    "#Predict y value for test dataset\n",
    "y_predict = nb_w2v.predict(X_test_vectors_w2v)\n",
    "print(classification_report(y_test,y_predict))\n",
    "conf_matrix = confusion_matrix(y_test, y_predict)\n",
    "print('Confusion Matrix: \\n',conf_matrix)"
   ]
  },
  {
   "cell_type": "code",
   "execution_count": 69,
   "metadata": {},
   "outputs": [
    {
     "data": {
      "image/png": "[encoded data removed]",
      "text/plain": [
       "<Figure size 800x600 with 2 Axes>"
      ]
     },
     "metadata": {},
     "output_type": "display_data"
    }
   ],
   "source": [
    "# Create a heatmap of the confusion matrix\n",
    "plt.figure(figsize=(8, 6))\n",
    "sns.heatmap(conf_matrix, annot=True, fmt='d', cmap='Blues', xticklabels=nb_w2v.classes_, yticklabels=nb_w2v.classes_)\n",
    "plt.title('Confusion Matrix')\n",
    "plt.xlabel('Predicted Label')\n",
    "plt.ylabel('True Label')\n",
    "plt.show()"
   ]
  }
 ],
 "metadata": {
  "kernelspec": {
   "display_name": "Python 3",
   "language": "python",
   "name": "python3"
  },
  "language_info": {
   "codemirror_mode": {
    "name": "ipython",
    "version": 3
   },
   "file_extension": ".py",
   "mimetype": "text/x-python",
   "name": "python",
   "nbconvert_exporter": "python",
   "pygments_lexer": "ipython3",
   "version": "3.9.0"
  }
 },
 "nbformat": 4,
 "nbformat_minor": 2
}
